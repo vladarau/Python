{
 "cells": [
  {
   "cell_type": "code",
   "execution_count": 5,
   "metadata": {
    "collapsed": false
   },
   "outputs": [
    {
     "name": "stdout",
     "output_type": "stream",
     "text": [
      "31875000\n"
     ]
    }
   ],
   "source": [
    "def is_triplet(a, b, c):\n",
    "    if (a ** 2  + b ** 2 == c ** 2):\n",
    "        return True\n",
    "    return False\n",
    "\n",
    "for i in range(1, 998):\n",
    "    for j in range(i + 1, 999):\n",
    "        for k in range(j + 1, 1000):\n",
    "            if is_triplet(i, j, k):\n",
    "                if (i + j + k ==  1000):\n",
    "                    print(i * j * k)"
   ]
  }
 ],
 "metadata": {
  "kernelspec": {
   "display_name": "Python 3",
   "language": "python",
   "name": "python3"
  },
  "language_info": {
   "codemirror_mode": {
    "name": "ipython",
    "version": 3
   },
   "file_extension": ".py",
   "mimetype": "text/x-python",
   "name": "python",
   "nbconvert_exporter": "python",
   "pygments_lexer": "ipython3",
   "version": "3.6.0"
  }
 },
 "nbformat": 4,
 "nbformat_minor": 2
}
