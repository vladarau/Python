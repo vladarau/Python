{
 "cells": [
  {
   "cell_type": "code",
   "execution_count": 1,
   "metadata": {
    "collapsed": false
   },
   "outputs": [
    {
     "name": "stdout",
     "output_type": "stream",
     "text": [
      "104743\n"
     ]
    }
   ],
   "source": [
    "primes = [2, 3] \n",
    "last_crossed = [2, 3] # array of non-prime numbers\n",
    "\n",
    "def add_next_prime(): #core function where we detect the prime number and cross the numbers for which it is the divisor\n",
    "    candidate = primes[-1] + 2\n",
    "    i = 0\n",
    "    while i < len(primes):\n",
    "        while last_crossed[i] < candidate:\n",
    "            last_crossed[i] += primes[i]\n",
    "        if last_crossed[i] == candidate:\n",
    "            candidate += 2\n",
    "            i = 0\n",
    "        i += 1\n",
    "\n",
    "    primes.append(candidate)\n",
    "    last_crossed.append(candidate)\n",
    "\n",
    "def fill_primes(n): #filling the array of all prime numbers from 2 to the 10001st\n",
    "    while len(primes) < n:\n",
    "        add_next_prime()\n",
    "\n",
    "fill_primes(10001)\n",
    "print(primes[-1])"
   ]
  }
 ],
 "metadata": {
  "kernelspec": {
   "display_name": "Python 3",
   "language": "python",
   "name": "python3"
  },
  "language_info": {
   "codemirror_mode": {
    "name": "ipython",
    "version": 3
   },
   "file_extension": ".py",
   "mimetype": "text/x-python",
   "name": "python",
   "nbconvert_exporter": "python",
   "pygments_lexer": "ipython3",
   "version": "3.6.0"
  }
 },
 "nbformat": 4,
 "nbformat_minor": 2
}
