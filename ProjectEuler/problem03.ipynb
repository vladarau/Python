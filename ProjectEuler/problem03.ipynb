{
 "cells": [
  {
   "cell_type": "code",
   "execution_count": 1,
   "metadata": {
    "collapsed": false
   },
   "outputs": [
    {
     "name": "stdout",
     "output_type": "stream",
     "text": [
      "6857\n"
     ]
    }
   ],
   "source": [
    "import math\n",
    "\n",
    "def getMultipliers(n):\n",
    "    result = [] #the array where we will store all multipliers\n",
    "    currentNumber = n # the number for which we need for find multipliers\n",
    "    probe = 2 #the possible multiplyer \n",
    "    while currentNumber != 1:\n",
    "        if currentNumber % probe != 0:\n",
    "            probe += 1\n",
    "        else:\n",
    "            currentNumber /= probe\n",
    "            result.append(probe)\n",
    "    return result\n",
    "\n",
    "number = 600851475143\n",
    "\n",
    "multipliers = getMultipliers(number)\n",
    "print(multipliers[-1])"
   ]
  }
 ],
 "metadata": {
  "kernelspec": {
   "display_name": "Python 3",
   "language": "python",
   "name": "python3"
  },
  "language_info": {
   "codemirror_mode": {
    "name": "ipython",
    "version": 3
   },
   "file_extension": ".py",
   "mimetype": "text/x-python",
   "name": "python",
   "nbconvert_exporter": "python",
   "pygments_lexer": "ipython3",
   "version": "3.6.0"
  }
 },
 "nbformat": 4,
 "nbformat_minor": 2
}
