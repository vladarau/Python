{
 "cells": [
  {
   "cell_type": "code",
   "execution_count": 10,
   "metadata": {
    "collapsed": false
   },
   "outputs": [
    {
     "name": "stdout",
     "output_type": "stream",
     "text": [
      "142913828922\n"
     ]
    }
   ],
   "source": [
    "def prime_sum(n):\n",
    "    if n < 2: \n",
    "        return 0\n",
    "    if n == 2: \n",
    "        return 2\n",
    "    if n % 2 == 0: \n",
    "        n += 1\n",
    "    primes = [True] * n\n",
    "    primes[0], primes[1] = [None] * 2\n",
    "    sum = 0\n",
    "    for ind, val in enumerate(primes):\n",
    "        if val is True and ind > n ** 0.5 + 1:\n",
    "            sum += ind\n",
    "        elif val is True:\n",
    "            primes[ind*2::ind] = [False] * (((n - 1)//ind) - 1)\n",
    "            sum += ind\n",
    "    return sum\n",
    "\n",
    "sum = prime_sum(2000000)\n",
    "print(sum)"
   ]
  }
 ],
 "metadata": {
  "kernelspec": {
   "display_name": "Python 3",
   "language": "python",
   "name": "python3"
  },
  "language_info": {
   "codemirror_mode": {
    "name": "ipython",
    "version": 3
   },
   "file_extension": ".py",
   "mimetype": "text/x-python",
   "name": "python",
   "nbconvert_exporter": "python",
   "pygments_lexer": "ipython3",
   "version": "3.6.0"
  }
 },
 "nbformat": 4,
 "nbformat_minor": 2
}
